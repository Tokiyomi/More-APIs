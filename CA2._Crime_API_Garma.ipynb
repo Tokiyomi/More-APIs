{
 "cells": [
  {
   "cell_type": "markdown",
   "metadata": {},
   "source": [
    "<center> <h1> Application Programming Interface </h> </center> \n",
    "<center> <h2> Classroom Activity 2 </h> </center> \n",
    "<center> <h3> Crime API </h> </center> \n",
    "<center> <h4> Carolina Garma Escoffié </h> </center> "
   ]
  },
  {
   "cell_type": "markdown",
   "metadata": {},
   "source": [
    "The Hoyodecrimen REST API (https://hoyodecrimen.com/api/) allows to query crime data about Mexico City. \n",
    "\n",
    "Complete the following tasks:\n",
    "\n",
    "* Obtain a **list** of all crime types in the Database.\n",
    "* Obtain all quadrants in the Database and store them into a table with the following columns:\n",
    "    * cuadrante\n",
    "    * cve_mun\n",
    "    * municipio\n",
    "    * sector\n",
    "* Create a function to obtain all the crimes within a certain distance given the geographic coordinates of a point (lat/lon). Create a table locating the crimes near to the Zocalo (19.433735, -99.133334):\n",
    "    * crime\n",
    "    * date\n",
    "    * hour\n",
    "    * lat\n",
    "    * lon\n",
    "* Obtain the top ranked quadrants the highest crime counts in 2016, 2017, 2018. Create a unique table including:\n",
    "    * year\n",
    "    * crime\n",
    "    * quadrant\n",
    "    * difference\n",
    "    * population\n",
    "    * rank\n",
    "* Obtain a table with the count of crimes that occurred in all sectors in 2016, 2017 and 2018. The table must include:\n",
    "    * year\n",
    "    * crime\n",
    "    * count\n",
    "    * crime\n",
    "    * cuadrante\n",
    "    * sector"
   ]
  },
  {
   "cell_type": "markdown",
   "metadata": {},
   "source": [
    "## 1) Crime types list"
   ]
  },
  {
   "cell_type": "code",
   "execution_count": 1,
   "metadata": {},
   "outputs": [],
   "source": [
    "import pandas as pd\n",
    "import json\n",
    "import requests"
   ]
  },
  {
   "cell_type": "code",
   "execution_count": 2,
   "metadata": {},
   "outputs": [],
   "source": [
    "def get_crimes():\n",
    "    \"\"\"\n",
    "    Return a list of all crime types in the database\n",
    "    ---------------\n",
    "    Input:\n",
    "        <None>\n",
    "    ----------\n",
    "    Output:\n",
    "        <list> List of dict in the form {'crime': 'TYPE'} for each crime type\n",
    "    ----------\n",
    "    \"\"\"\n",
    "    \n",
    "    endpoint_url='https://hoyodecrimen.com/api/v1/crimes'\n",
    "    \n",
    "    res = requests.get(endpoint_url) #Get the information\n",
    "    \n",
    "    res.content #Read it as an object\n",
    "    \n",
    "    results=json.loads(res.content) #Convert the object into a dict\n",
    "    \n",
    "    results=results['rows'] # Enter to the target section\n",
    "    \n",
    "    return results #Return a list of dict"
   ]
  },
  {
   "cell_type": "code",
   "execution_count": 3,
   "metadata": {},
   "outputs": [
    {
     "data": {
      "text/plain": [
       "[{'crime': 'HOMICIDIO DOLOSO'},\n",
       " {'crime': 'LESIONES POR ARMA DE FUEGO'},\n",
       " {'crime': 'ROBO A BORDO DE METRO C.V.'},\n",
       " {'crime': 'ROBO A BORDO DE METRO S.V.'},\n",
       " {'crime': 'ROBO A BORDO DE MICROBUS C.V.'},\n",
       " {'crime': 'ROBO A BORDO DE MICROBUS S.V.'},\n",
       " {'crime': 'ROBO A BORDO DE TAXI C.V.'},\n",
       " {'crime': 'ROBO A CASA HABITACION C.V.'},\n",
       " {'crime': 'ROBO A CUENTAHABIENTE C.V.'},\n",
       " {'crime': 'ROBO A NEGOCIO C.V.'},\n",
       " {'crime': 'ROBO A REPARTIDOR C.V.'},\n",
       " {'crime': 'ROBO A REPARTIDOR S.V.'},\n",
       " {'crime': 'ROBO A TRANSEUNTE C.V.'},\n",
       " {'crime': 'ROBO A TRANSEUNTE S.V.'},\n",
       " {'crime': 'ROBO A TRANSPORTISTA C.V.'},\n",
       " {'crime': 'ROBO A TRANSPORTISTA S.V.'},\n",
       " {'crime': 'ROBO DE VEHICULO AUTOMOTOR C.V.'},\n",
       " {'crime': 'ROBO DE VEHICULO AUTOMOTOR S.V.'},\n",
       " {'crime': 'SECUESTRO'},\n",
       " {'crime': 'VIOLACION'}]"
      ]
     },
     "execution_count": 3,
     "metadata": {},
     "output_type": "execute_result"
    }
   ],
   "source": [
    "crime_list=get_crimes()\n",
    "crime_list"
   ]
  },
  {
   "cell_type": "code",
   "execution_count": 4,
   "metadata": {},
   "outputs": [
    {
     "name": "stdout",
     "output_type": "stream",
     "text": [
      "<class 'list'>\n",
      "<class 'dict'>\n"
     ]
    }
   ],
   "source": [
    "print(type(crime_list))\n",
    "print(type(crime_list[0]))"
   ]
  },
  {
   "cell_type": "markdown",
   "metadata": {},
   "source": [
    "## 2) Obtain Quadrants   "
   ]
  },
  {
   "cell_type": "code",
   "execution_count": 5,
   "metadata": {},
   "outputs": [],
   "source": [
    "def obtain_quadrants():\n",
    "    \"\"\"\n",
    "    Enumerate all the cuadrantes and the sectors and municipios they belong to\n",
    "    ---------------\n",
    "    Input:\n",
    "        <None>\n",
    "    ----------\n",
    "    Output:\n",
    "        <list> Returns a list of dicts with the CUADRANTE, CVE_NUM, MUNICIPIO and SECTOR.\n",
    "    ----------\n",
    "    \"\"\"\n",
    "    \n",
    "    endpoint_url='https://hoyodecrimen.com/api/v1/cuadrantes'\n",
    "    \n",
    "    res = requests.get(endpoint_url) #Get the information\n",
    "    \n",
    "    res.content #Read it as an object\n",
    "    \n",
    "    results=json.loads(res.content) #Convert the object into a dict\n",
    "    \n",
    "    results=results['rows'] # Target section \n",
    "    \n",
    "    return results #Return a list of dictionaries"
   ]
  },
  {
   "cell_type": "code",
   "execution_count": 6,
   "metadata": {},
   "outputs": [],
   "source": [
    "quadrants=obtain_quadrants() # Make a request"
   ]
  },
  {
   "cell_type": "code",
   "execution_count": 7,
   "metadata": {},
   "outputs": [
    {
     "data": {
      "text/plain": [
       "{'cuadrante': 'P-1.1.1',\n",
       " 'cve_mun': '9010',\n",
       " 'municipio': 'ALVARO OBREGON',\n",
       " 'sector': 'ALPES'}"
      ]
     },
     "execution_count": 7,
     "metadata": {},
     "output_type": "execute_result"
    }
   ],
   "source": [
    "quadrants[0] # Print the first element of the list (first row)"
   ]
  },
  {
   "cell_type": "code",
   "execution_count": 8,
   "metadata": {},
   "outputs": [],
   "source": [
    "quadrants_table=pd.read_json(json.dumps(quadrants), orient='records') # Convert the list into a DataFrame"
   ]
  },
  {
   "cell_type": "code",
   "execution_count": 9,
   "metadata": {},
   "outputs": [
    {
     "data": {
      "text/html": [
       "<div>\n",
       "<style scoped>\n",
       "    .dataframe tbody tr th:only-of-type {\n",
       "        vertical-align: middle;\n",
       "    }\n",
       "\n",
       "    .dataframe tbody tr th {\n",
       "        vertical-align: top;\n",
       "    }\n",
       "\n",
       "    .dataframe thead th {\n",
       "        text-align: right;\n",
       "    }\n",
       "</style>\n",
       "<table border=\"1\" class=\"dataframe\">\n",
       "  <thead>\n",
       "    <tr style=\"text-align: right;\">\n",
       "      <th></th>\n",
       "      <th>cuadrante</th>\n",
       "      <th>cve_mun</th>\n",
       "      <th>municipio</th>\n",
       "      <th>sector</th>\n",
       "    </tr>\n",
       "  </thead>\n",
       "  <tbody>\n",
       "    <tr>\n",
       "      <th>0</th>\n",
       "      <td>P-1.1.1</td>\n",
       "      <td>9010</td>\n",
       "      <td>ALVARO OBREGON</td>\n",
       "      <td>ALPES</td>\n",
       "    </tr>\n",
       "    <tr>\n",
       "      <th>1</th>\n",
       "      <td>P-1.1.10</td>\n",
       "      <td>9010</td>\n",
       "      <td>ALVARO OBREGON</td>\n",
       "      <td>ALPES</td>\n",
       "    </tr>\n",
       "    <tr>\n",
       "      <th>2</th>\n",
       "      <td>P-1.1.2</td>\n",
       "      <td>9010</td>\n",
       "      <td>ALVARO OBREGON</td>\n",
       "      <td>ALPES</td>\n",
       "    </tr>\n",
       "    <tr>\n",
       "      <th>3</th>\n",
       "      <td>P-1.1.3</td>\n",
       "      <td>9010</td>\n",
       "      <td>ALVARO OBREGON</td>\n",
       "      <td>ALPES</td>\n",
       "    </tr>\n",
       "    <tr>\n",
       "      <th>4</th>\n",
       "      <td>P-1.1.4</td>\n",
       "      <td>9010</td>\n",
       "      <td>ALVARO OBREGON</td>\n",
       "      <td>ALPES</td>\n",
       "    </tr>\n",
       "  </tbody>\n",
       "</table>\n",
       "</div>"
      ],
      "text/plain": [
       "  cuadrante  cve_mun       municipio sector\n",
       "0   P-1.1.1     9010  ALVARO OBREGON  ALPES\n",
       "1  P-1.1.10     9010  ALVARO OBREGON  ALPES\n",
       "2   P-1.1.2     9010  ALVARO OBREGON  ALPES\n",
       "3   P-1.1.3     9010  ALVARO OBREGON  ALPES\n",
       "4   P-1.1.4     9010  ALVARO OBREGON  ALPES"
      ]
     },
     "execution_count": 9,
     "metadata": {},
     "output_type": "execute_result"
    }
   ],
   "source": [
    "quadrants_table.head() #Print the head"
   ]
  },
  {
   "cell_type": "markdown",
   "metadata": {},
   "source": [
    "## 3) Crimes by distance and location (lat/lon)"
   ]
  },
  {
   "cell_type": "markdown",
   "metadata": {},
   "source": [
    "Create a function to obtain all the crimes within a certain distance given the geographic coordinates of a point (lat/lon). Create a table locating the crimes near to the Zocalo (19.433735, -99.133334):\n",
    "crime\n",
    "date\n",
    "hour\n",
    "lat\n",
    "lon"
   ]
  },
  {
   "cell_type": "code",
   "execution_count": 10,
   "metadata": {},
   "outputs": [],
   "source": [
    "def crimes_by_distance():\n",
    "    \"\"\"\n",
    "    Given a latitude and longitude return all crimes within a certain distance during the last 12 months\n",
    "    ---------------\n",
    "    Input:\n",
    "        <None>\n",
    "    ----------\n",
    "    Output:\n",
    "        <list> Returns a list of dicts with the CRIME TYPE, CRIME DATE, CRIME HOUR, LAT and LONG.\n",
    "    ----------\n",
    "    \"\"\"\n",
    "    endpoint_url='https://hoyodecrimen.com/api/v1/latlong/crimes/all/coords/-99.133334/19.433735/distance/500'\n",
    "    \n",
    "    res = requests.get(endpoint_url) #Get the information\n",
    "    \n",
    "    res.content #Read it as an object\n",
    "    \n",
    "    results=json.loads(res.content) #Convert the object into a dict\n",
    "    \n",
    "    results=results['rows'] # Target section\n",
    "    \n",
    "    return results #Return a list of dictionaries"
   ]
  },
  {
   "cell_type": "code",
   "execution_count": 11,
   "metadata": {},
   "outputs": [],
   "source": [
    "nearby_crimes = crimes_by_distance() # Make the request"
   ]
  },
  {
   "cell_type": "code",
   "execution_count": 12,
   "metadata": {},
   "outputs": [
    {
     "data": {
      "text/plain": [
       "{'crime': 'VIOLACION',\n",
       " 'date': '2019-08-08',\n",
       " 'hour': '20:20',\n",
       " 'lat': 19.4348943972022,\n",
       " 'long': -99.1319456996602}"
      ]
     },
     "execution_count": 12,
     "metadata": {},
     "output_type": "execute_result"
    }
   ],
   "source": [
    "nearby_crimes[0] # Print the first element of the list (first row)"
   ]
  },
  {
   "cell_type": "code",
   "execution_count": 13,
   "metadata": {},
   "outputs": [],
   "source": [
    "nearby_crimes = pd.read_json(json.dumps(nearby_crimes), orient='records') #Convert into a DataFrame"
   ]
  },
  {
   "cell_type": "code",
   "execution_count": 14,
   "metadata": {},
   "outputs": [
    {
     "data": {
      "text/html": [
       "<div>\n",
       "<style scoped>\n",
       "    .dataframe tbody tr th:only-of-type {\n",
       "        vertical-align: middle;\n",
       "    }\n",
       "\n",
       "    .dataframe tbody tr th {\n",
       "        vertical-align: top;\n",
       "    }\n",
       "\n",
       "    .dataframe thead th {\n",
       "        text-align: right;\n",
       "    }\n",
       "</style>\n",
       "<table border=\"1\" class=\"dataframe\">\n",
       "  <thead>\n",
       "    <tr style=\"text-align: right;\">\n",
       "      <th></th>\n",
       "      <th>crime</th>\n",
       "      <th>date</th>\n",
       "      <th>hour</th>\n",
       "      <th>lat</th>\n",
       "      <th>long</th>\n",
       "    </tr>\n",
       "  </thead>\n",
       "  <tbody>\n",
       "    <tr>\n",
       "      <th>0</th>\n",
       "      <td>VIOLACION</td>\n",
       "      <td>2019-08-08</td>\n",
       "      <td>20:20</td>\n",
       "      <td>19.434894</td>\n",
       "      <td>-99.131946</td>\n",
       "    </tr>\n",
       "    <tr>\n",
       "      <th>1</th>\n",
       "      <td>VIOLACION</td>\n",
       "      <td>2019-07-28</td>\n",
       "      <td>08:00</td>\n",
       "      <td>19.433981</td>\n",
       "      <td>-99.136270</td>\n",
       "    </tr>\n",
       "    <tr>\n",
       "      <th>2</th>\n",
       "      <td>VIOLACION</td>\n",
       "      <td>2019-02-18</td>\n",
       "      <td>07:30</td>\n",
       "      <td>19.433498</td>\n",
       "      <td>-99.131219</td>\n",
       "    </tr>\n",
       "    <tr>\n",
       "      <th>3</th>\n",
       "      <td>VIOLACION</td>\n",
       "      <td>2019-02-09</td>\n",
       "      <td>03:00</td>\n",
       "      <td>19.436161</td>\n",
       "      <td>-99.137314</td>\n",
       "    </tr>\n",
       "    <tr>\n",
       "      <th>4</th>\n",
       "      <td>VIOLACION</td>\n",
       "      <td>2019-01-12</td>\n",
       "      <td>21:00</td>\n",
       "      <td>19.436161</td>\n",
       "      <td>-99.137314</td>\n",
       "    </tr>\n",
       "  </tbody>\n",
       "</table>\n",
       "</div>"
      ],
      "text/plain": [
       "       crime       date   hour        lat       long\n",
       "0  VIOLACION 2019-08-08  20:20  19.434894 -99.131946\n",
       "1  VIOLACION 2019-07-28  08:00  19.433981 -99.136270\n",
       "2  VIOLACION 2019-02-18  07:30  19.433498 -99.131219\n",
       "3  VIOLACION 2019-02-09  03:00  19.436161 -99.137314\n",
       "4  VIOLACION 2019-01-12  21:00  19.436161 -99.137314"
      ]
     },
     "execution_count": 14,
     "metadata": {},
     "output_type": "execute_result"
    }
   ],
   "source": [
    "nearby_crimes.head() # Print the head"
   ]
  },
  {
   "cell_type": "markdown",
   "metadata": {},
   "source": [
    "## 4) Top Ranked quadrants "
   ]
  },
  {
   "cell_type": "markdown",
   "metadata": {},
   "source": [
    "Obtain the top ranked quadrants the highest crime counts in 2016, 2017, 2018. Create a unique table including:\n",
    "year\n",
    "crime\n",
    "quadrant\n",
    "difference\n",
    "population\n",
    "rank"
   ]
  },
  {
   "cell_type": "code",
   "execution_count": 15,
   "metadata": {},
   "outputs": [],
   "source": [
    "def top_ranked_quadrants_counts(start,end):\n",
    "    \"\"\"\n",
    "    Return the top ranked cuadrantes with the highest crime counts for a given period of time.\n",
    "    ---------------\n",
    "    Input:\n",
    "        <string>\n",
    "            'start' : start date of the period in the form: %Y-%m (e.g. 2016-01)\n",
    "            'end' : end date of the period in the form: %Y-%m (e.g. 2016-12)\n",
    "    ----------\n",
    "    Output:\n",
    "        <list> \n",
    "            Returns a list of dicts with the CRIME COUNT, CRIME TYPE, CRIME DATE, CUADRANTE, START PERIOD,\n",
    "            END PERIOD, POPULATION, SECTOR and RANK.\n",
    "    ----------\n",
    "    \"\"\"\n",
    "    \n",
    "    endpoint_url='https://hoyodecrimen.com/api/v1/cuadrantes/crimes/all/top/counts'\n",
    "    \n",
    "    parameters = {\n",
    "        'start_date' : start,\n",
    "        'end_date' : end\n",
    "    }\n",
    "    \n",
    "    res = requests.get(endpoint_url, params=parameters) #Get the information by passing the parameters\n",
    "    \n",
    "    res.content #Read it as an object\n",
    "    \n",
    "    results=json.loads(res.content) #Convert the object into a dict\n",
    "    \n",
    "    results=results['rows']\n",
    "    \n",
    "    return results #Return a list of dictionaries"
   ]
  },
  {
   "cell_type": "code",
   "execution_count": 16,
   "metadata": {},
   "outputs": [],
   "source": [
    "# Make three requests (one for each year)\n",
    "lista2016=top_ranked_quadrants_counts('2016-01','2016-12')\n",
    "lista2017=top_ranked_quadrants_counts('2017-01','2017-12')\n",
    "lista2018=top_ranked_quadrants_counts('2018-01','2018-12')"
   ]
  },
  {
   "cell_type": "code",
   "execution_count": 17,
   "metadata": {},
   "outputs": [],
   "source": [
    "lista_total=lista2016+lista2017+lista2018 # Make a list with the three anual lists"
   ]
  },
  {
   "cell_type": "code",
   "execution_count": 18,
   "metadata": {},
   "outputs": [
    {
     "data": {
      "text/plain": [
       "{'count': 153,\n",
       " 'crime': 'HOMICIDIO DOLOSO',\n",
       " 'cuadrante': '(NO ESPECIFICADO)',\n",
       " 'end_period': '2016-12',\n",
       " 'population': None,\n",
       " 'rank': 1,\n",
       " 'sector': 'NO ESPECIFICADO',\n",
       " 'start_period': '2016-01'}"
      ]
     },
     "execution_count": 18,
     "metadata": {},
     "output_type": "execute_result"
    }
   ],
   "source": [
    "lista_total[0] # Print the firs element (first row)"
   ]
  },
  {
   "cell_type": "code",
   "execution_count": 19,
   "metadata": {},
   "outputs": [],
   "source": [
    "tabla=pd.read_json(json.dumps(lista_total), orient='records') # Convert into a DataFrame"
   ]
  },
  {
   "cell_type": "code",
   "execution_count": 20,
   "metadata": {},
   "outputs": [],
   "source": [
    "tabla['year']=tabla['start_period'].astype(str).str.slice(start=0, stop=4) # Create a new column for the year"
   ]
  },
  {
   "cell_type": "code",
   "execution_count": 21,
   "metadata": {},
   "outputs": [],
   "source": [
    "tabla=tabla[['crime', 'cuadrante','population', 'rank','year']] # Keep the specified columns (except difference)"
   ]
  },
  {
   "cell_type": "code",
   "execution_count": 22,
   "metadata": {},
   "outputs": [
    {
     "data": {
      "text/html": [
       "<div>\n",
       "<style scoped>\n",
       "    .dataframe tbody tr th:only-of-type {\n",
       "        vertical-align: middle;\n",
       "    }\n",
       "\n",
       "    .dataframe tbody tr th {\n",
       "        vertical-align: top;\n",
       "    }\n",
       "\n",
       "    .dataframe thead th {\n",
       "        text-align: right;\n",
       "    }\n",
       "</style>\n",
       "<table border=\"1\" class=\"dataframe\">\n",
       "  <thead>\n",
       "    <tr style=\"text-align: right;\">\n",
       "      <th></th>\n",
       "      <th>crime</th>\n",
       "      <th>cuadrante</th>\n",
       "      <th>population</th>\n",
       "      <th>rank</th>\n",
       "      <th>year</th>\n",
       "    </tr>\n",
       "  </thead>\n",
       "  <tbody>\n",
       "    <tr>\n",
       "      <th>0</th>\n",
       "      <td>HOMICIDIO DOLOSO</td>\n",
       "      <td>(NO ESPECIFICADO)</td>\n",
       "      <td>NaN</td>\n",
       "      <td>1</td>\n",
       "      <td>2016</td>\n",
       "    </tr>\n",
       "    <tr>\n",
       "      <th>1</th>\n",
       "      <td>HOMICIDIO DOLOSO</td>\n",
       "      <td>N-1.3.12</td>\n",
       "      <td>17795.0</td>\n",
       "      <td>2</td>\n",
       "      <td>2016</td>\n",
       "    </tr>\n",
       "    <tr>\n",
       "      <th>2</th>\n",
       "      <td>HOMICIDIO DOLOSO</td>\n",
       "      <td>P-1.2.6</td>\n",
       "      <td>45966.0</td>\n",
       "      <td>3</td>\n",
       "      <td>2016</td>\n",
       "    </tr>\n",
       "    <tr>\n",
       "      <th>3</th>\n",
       "      <td>HOMICIDIO DOLOSO</td>\n",
       "      <td>C-2.3.2</td>\n",
       "      <td>12649.0</td>\n",
       "      <td>4</td>\n",
       "      <td>2016</td>\n",
       "    </tr>\n",
       "    <tr>\n",
       "      <th>4</th>\n",
       "      <td>HOMICIDIO DOLOSO</td>\n",
       "      <td>N-1.1.20</td>\n",
       "      <td>16797.0</td>\n",
       "      <td>4</td>\n",
       "      <td>2016</td>\n",
       "    </tr>\n",
       "  </tbody>\n",
       "</table>\n",
       "</div>"
      ],
      "text/plain": [
       "              crime          cuadrante  population  rank  year\n",
       "0  HOMICIDIO DOLOSO  (NO ESPECIFICADO)         NaN     1  2016\n",
       "1  HOMICIDIO DOLOSO           N-1.3.12     17795.0     2  2016\n",
       "2  HOMICIDIO DOLOSO            P-1.2.6     45966.0     3  2016\n",
       "3  HOMICIDIO DOLOSO            C-2.3.2     12649.0     4  2016\n",
       "4  HOMICIDIO DOLOSO           N-1.1.20     16797.0     4  2016"
      ]
     },
     "execution_count": 22,
     "metadata": {},
     "output_type": "execute_result"
    }
   ],
   "source": [
    "tabla.head() # Print the head"
   ]
  },
  {
   "cell_type": "markdown",
   "metadata": {},
   "source": [
    "## 5) Crime count sectors and quadrants"
   ]
  },
  {
   "cell_type": "markdown",
   "metadata": {},
   "source": [
    "Obtain a table with the count of crimes that occurred in all sectors in 2016, 2017 and 2018. The table must include:\n",
    "year\n",
    "crime\n",
    "count\n",
    "crime\n",
    "cuadrante\n",
    "sector"
   ]
  },
  {
   "cell_type": "code",
   "execution_count": 23,
   "metadata": {},
   "outputs": [],
   "source": [
    "def count_crimes_cuadrants_sectors(start, end):\n",
    "    \"\"\"\n",
    "    Return the sum of crimes that occurred in each cuadrante for a specified period of time\n",
    "    ---------------\n",
    "    Input:\n",
    "        <string>\n",
    "            'start' : start date of the period in the form: %Y-%m (e.g. 2016-01)\n",
    "            'end' : end date of the period in the form: %Y-%m (e.g. 2016-12)\n",
    "    ----------\n",
    "    Output:\n",
    "        <list> \n",
    "            Returns a list of dicts with the CRIME COUNT, CRIME TYPE, CRIME DATE, CUADRANTE, START PERIOD,\n",
    "            END PERIOD, POPULATION and SECTOR.\n",
    "    ----------\n",
    "    \"\"\"\n",
    "    \n",
    "    endpoint_url='https://hoyodecrimen.com/api/v1/cuadrantes/all/crimes/all/period'\n",
    "    \n",
    "    parameters = {\n",
    "        'start_date' : start,\n",
    "        'end_date' : end\n",
    "    }\n",
    "    \n",
    "    res = requests.get(endpoint_url, params=parameters) #Get the information by passing the parameters\n",
    "    \n",
    "    res.content #Read it as an object\n",
    "    \n",
    "    results=json.loads(res.content) #Convert the object into a dict\n",
    "    \n",
    "    results=results['rows'] # Target section\n",
    "    \n",
    "    return results #Return a list of dictionaries"
   ]
  },
  {
   "cell_type": "code",
   "execution_count": 24,
   "metadata": {},
   "outputs": [],
   "source": [
    "# Make three requests (one for each year)\n",
    "cuadrante2016=count_crimes_cuadrants_sectors('2016-01', '2016-12')\n",
    "cuadrante2017=count_crimes_cuadrants_sectors('2017-01', '2017-12')\n",
    "cuadrante2018=count_crimes_cuadrants_sectors('2018-01', '2018-12')"
   ]
  },
  {
   "cell_type": "code",
   "execution_count": 25,
   "metadata": {},
   "outputs": [],
   "source": [
    "cuadrantes_total=cuadrante2016+cuadrante2017+cuadrante2018 # Add to a unique list the three anual lists"
   ]
  },
  {
   "cell_type": "code",
   "execution_count": 26,
   "metadata": {},
   "outputs": [
    {
     "data": {
      "text/plain": [
       "{'count': 0,\n",
       " 'crime': 'HOMICIDIO DOLOSO',\n",
       " 'cuadrante': 'C-1.1.1',\n",
       " 'end_date': '2016-12',\n",
       " 'population': 36,\n",
       " 'sector': 'REVOLUCION-ALAMEDA',\n",
       " 'start_date': '2016-01'}"
      ]
     },
     "execution_count": 26,
     "metadata": {},
     "output_type": "execute_result"
    }
   ],
   "source": [
    "cuadrantes_total[0] # Print the first element of the unique list (first row)"
   ]
  },
  {
   "cell_type": "code",
   "execution_count": 27,
   "metadata": {},
   "outputs": [],
   "source": [
    "tabla_cuadrantes=pd.read_json(json.dumps(cuadrantes_total), orient='records') # Convert into a DataFrame"
   ]
  },
  {
   "cell_type": "code",
   "execution_count": 28,
   "metadata": {},
   "outputs": [],
   "source": [
    "tabla_cuadrantes['year']=tabla_cuadrantes['start_date'].astype(str).str.slice(start=0, stop=4) # Create a new column for the year"
   ]
  },
  {
   "cell_type": "code",
   "execution_count": 29,
   "metadata": {},
   "outputs": [],
   "source": [
    "tabla_cuadrantes=tabla_cuadrantes[['count','crime', 'cuadrante','sector','year']] # Keep the specified columns"
   ]
  },
  {
   "cell_type": "code",
   "execution_count": 30,
   "metadata": {},
   "outputs": [
    {
     "data": {
      "text/html": [
       "<div>\n",
       "<style scoped>\n",
       "    .dataframe tbody tr th:only-of-type {\n",
       "        vertical-align: middle;\n",
       "    }\n",
       "\n",
       "    .dataframe tbody tr th {\n",
       "        vertical-align: top;\n",
       "    }\n",
       "\n",
       "    .dataframe thead th {\n",
       "        text-align: right;\n",
       "    }\n",
       "</style>\n",
       "<table border=\"1\" class=\"dataframe\">\n",
       "  <thead>\n",
       "    <tr style=\"text-align: right;\">\n",
       "      <th></th>\n",
       "      <th>count</th>\n",
       "      <th>crime</th>\n",
       "      <th>cuadrante</th>\n",
       "      <th>sector</th>\n",
       "      <th>year</th>\n",
       "    </tr>\n",
       "  </thead>\n",
       "  <tbody>\n",
       "    <tr>\n",
       "      <th>0</th>\n",
       "      <td>0</td>\n",
       "      <td>HOMICIDIO DOLOSO</td>\n",
       "      <td>C-1.1.1</td>\n",
       "      <td>REVOLUCION-ALAMEDA</td>\n",
       "      <td>2016</td>\n",
       "    </tr>\n",
       "    <tr>\n",
       "      <th>1</th>\n",
       "      <td>0</td>\n",
       "      <td>HOMICIDIO DOLOSO</td>\n",
       "      <td>C-1.1.2</td>\n",
       "      <td>CORREDOR-CENTRO</td>\n",
       "      <td>2016</td>\n",
       "    </tr>\n",
       "    <tr>\n",
       "      <th>2</th>\n",
       "      <td>0</td>\n",
       "      <td>HOMICIDIO DOLOSO</td>\n",
       "      <td>C-1.1.3</td>\n",
       "      <td>CORREDOR-CENTRO</td>\n",
       "      <td>2016</td>\n",
       "    </tr>\n",
       "    <tr>\n",
       "      <th>3</th>\n",
       "      <td>0</td>\n",
       "      <td>HOMICIDIO DOLOSO</td>\n",
       "      <td>C-1.1.4</td>\n",
       "      <td>MIXCALCO-HERALDO</td>\n",
       "      <td>2016</td>\n",
       "    </tr>\n",
       "    <tr>\n",
       "      <th>4</th>\n",
       "      <td>0</td>\n",
       "      <td>HOMICIDIO DOLOSO</td>\n",
       "      <td>C-1.1.6</td>\n",
       "      <td>REVOLUCION-ALAMEDA</td>\n",
       "      <td>2016</td>\n",
       "    </tr>\n",
       "  </tbody>\n",
       "</table>\n",
       "</div>"
      ],
      "text/plain": [
       "   count             crime cuadrante              sector  year\n",
       "0      0  HOMICIDIO DOLOSO   C-1.1.1  REVOLUCION-ALAMEDA  2016\n",
       "1      0  HOMICIDIO DOLOSO   C-1.1.2     CORREDOR-CENTRO  2016\n",
       "2      0  HOMICIDIO DOLOSO   C-1.1.3     CORREDOR-CENTRO  2016\n",
       "3      0  HOMICIDIO DOLOSO   C-1.1.4    MIXCALCO-HERALDO  2016\n",
       "4      0  HOMICIDIO DOLOSO   C-1.1.6  REVOLUCION-ALAMEDA  2016"
      ]
     },
     "execution_count": 30,
     "metadata": {},
     "output_type": "execute_result"
    }
   ],
   "source": [
    "tabla_cuadrantes.head() # Print head"
   ]
  },
  {
   "cell_type": "code",
   "execution_count": null,
   "metadata": {},
   "outputs": [],
   "source": []
  }
 ],
 "metadata": {
  "kernelspec": {
   "display_name": "Python 3",
   "language": "python",
   "name": "python3"
  },
  "language_info": {
   "codemirror_mode": {
    "name": "ipython",
    "version": 3
   },
   "file_extension": ".py",
   "mimetype": "text/x-python",
   "name": "python",
   "nbconvert_exporter": "python",
   "pygments_lexer": "ipython3",
   "version": "3.7.1"
  }
 },
 "nbformat": 4,
 "nbformat_minor": 2
}
